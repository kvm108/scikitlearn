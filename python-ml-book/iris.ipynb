{
 "cells": [
  {
   "cell_type": "code",
   "execution_count": 448,
   "metadata": {
    "collapsed": true
   },
   "outputs": [],
   "source": [
    "# magic\n",
    "from IPython.display import Image\n",
    "%matplotlib inline"
   ]
  },
  {
   "cell_type": "code",
   "execution_count": 450,
   "metadata": {},
   "outputs": [],
   "source": [
    "from distutils.version import LooseVersion as Version\n",
    "from sklearn import __version__ as sklearn_version\n",
    "from sklearn import datasets\n",
    "import numpy as np\n",
    "from sklearn.model_selection import train_test_split\n",
    "from sklearn.preprocessing import StandardScaler"
   ]
  },
  {
   "cell_type": "code",
   "execution_count": 451,
   "metadata": {},
   "outputs": [],
   "source": [
    "# 1. Get data\n",
    "\n",
    "iris = datasets.load_iris()\n",
    "X = iris.data[:, [2, 3]] # Other 2 columns \n",
    "y = iris.target\n",
    "X, y\n",
    "\n",
    "#Number of classes \n",
    "print(\"Class labels\", np.unique(y))"
   ]
  },
  {
   "cell_type": "code",
   "execution_count": 452,
   "metadata": {},
   "outputs": [],
   "source": [
    "X_train, X_test, y_train, y_test = train_test_split(X, y, test_size=0.3, random_state=0)\n",
    "# print(\"X train {} \\n X test {} \\n y train {} \\n y test {}\".format(X_train, X_test, y_train, y_test))\n",
    "print(\"X size {}\".format(X.shape))"
   ]
  },
  {
   "cell_type": "code",
   "execution_count": 453,
   "metadata": {},
   "outputs": [],
   "source": [
    "# 2. Standardize the features\n",
    "\n",
    "sc = StandardScaler()\n",
    "sc.fit(X_train)\n",
    "X_train_std = sc.transform(X_train)\n",
    "X_test_std = sc.transform(X_test)\n",
    "\n",
    "# print(\"X {} X std {}\".format(X_train[:2], X_train_std[:2]))"
   ]
  },
  {
   "cell_type": "code",
   "execution_count": 454,
   "metadata": {
    "collapsed": false
   },
   "outputs": [
    {
     "data": {
      "text/plain": [
       "Perceptron(alpha=0.0001, class_weight=None, eta0=0.1, fit_intercept=True,\n      max_iter=40, n_iter=None, n_jobs=1, penalty=None, random_state=0,\n      shuffle=True, tol=None, verbose=0, warm_start=False)"
      ]
     },
     "execution_count": 454,
     "metadata": {},
     "output_type": "execute_result"
    }
   ],
   "source": [
    "from sklearn.linear_model import Perceptron\n",
    "\n",
    "ppn = Perceptron(max_iter=40, eta0=0.1, random_state=0)\n",
    "ppn.fit(X_train_std, y_train)"
   ]
  },
  {
   "cell_type": "code",
   "execution_count": 455,
   "metadata": {},
   "outputs": [
    {
     "data": {
      "text/plain": [
       "4"
      ]
     },
     "execution_count": 455,
     "metadata": {},
     "output_type": "execute_result"
    }
   ],
   "source": [
    "y_pred = ppn.predict(X_test_std)\n",
    "\n",
    "error = (y_test != y_pred).sum()\n",
    "error"
   ]
  },
  {
   "cell_type": "code",
   "execution_count": 456,
   "metadata": {},
   "outputs": [
    {
     "name": "stdout",
     "output_type": "stream",
     "text": [
      "Accuracy 0.9111111111111111\n"
     ]
    }
   ],
   "source": [
    "from sklearn.metrics import accuracy_score\n",
    "\n",
    "print(\"Accuracy {}\".format(accuracy_score(y_test, y_pred)))"
   ]
  },
  {
   "cell_type": "code",
   "execution_count": 457,
   "metadata": {
    "collapsed": false
   },
   "outputs": [
    {
     "name": "stderr",
     "output_type": "stream",
     "text": [
      "No handles with labels found to put in legend.\n"
     ]
    },
    {
     "name": "stdout",
     "output_type": "stream",
     "text": [
      "X com <class 'tuple'> y com <class 'tuple'>\nX com (150, 2) y com (150,)\nxx1 (67575,) xx2 (255, 265) array [[-2.57496421 -2.55496421 -2.53496421 ...  2.66503579  2.68503579\n   2.70503579]\n [-2.4487218  -2.4487218  -2.4487218  ...  2.6312782   2.6312782\n   2.6312782 ]] \n size (2, 67575) after t [[-2.57496421 -2.4487218 ]\n [-2.55496421 -2.4487218 ]\n [-2.53496421 -2.4487218 ]\n ...\n [ 2.66503579  2.6312782 ]\n [ 2.68503579  2.6312782 ]\n [ 2.70503579  2.6312782 ]]\n"
     ]
    },
    {
     "data": {
      "image/png": "[encoded data removed]",
      "text/plain": [
       "<Figure size 432x288 with 1 Axes>"
      ]
     },
     "metadata": {},
     "output_type": "display_data"
    }
   ],
   "source": [
    "from matplotlib.colors import ListedColormap\n",
    "import matplotlib.pyplot as plt\n",
    "import warnings\n",
    "\n",
    "\n",
    "def versiontuple(v):\n",
    "    return tuple(map(int, v.split(\".\"))) # convert to int\n",
    "\n",
    "\n",
    "def plot_decision_regions(X, y, classifier, test_idx=None, resolution=0.02):\n",
    "\n",
    "    markers = ('s', 'x', 'o', '^', 'v')\n",
    "    colors = ('red', 'blue', 'lightgreen', 'gray', 'cyan')\n",
    "    cmap = ListedColormap(colors[:len(np.unique(y))])\n",
    "\n",
    "    x1_min, x1_max = X[:, 0].min() - 1, X[:, 0].max() + 1\n",
    "    x2_min, x2_max = X[:, 1].min() - 1, X[:, 1].max() + 1\n",
    "    xx1, xx2 = np.meshgrid(np.arange(x1_min, x1_max, resolution),\n",
    "                           np.arange(x2_min, x2_max, resolution))\n",
    "    np_array = np.array([xx1.ravel(), xx2.ravel()])\n",
    "    np_array_t = np.array([xx1.ravel(), xx2.ravel()]).T\n",
    "    \n",
    "    print(\"xx1 {} xx2 {} array {} \\n size {} after t {}\".format((xx1.ravel()).shape, xx2.shape, np_array, np_array.shape, np_array_t))\n",
    "    Z = classifier.predict(np.array([xx1.ravel(), xx2.ravel()]).T)\n",
    "    Z = Z.reshape(xx1.shape)\n",
    "    plt.contourf(xx1, xx2, Z, alpha=0.4, cmap=cmap)\n",
    "    plt.xlim(xx1.min(), xx1.max())\n",
    "    plt.ylim(xx2.min(), xx2.max())\n",
    "    \n",
    "    # End of plot contour\n",
    "    \n",
    "    #for each class, plot the points : SImply plots the point\n",
    "    for idx, cl in enumerate(np.unique(y)):\n",
    "        plt.scatter(x=X[y == cl, 0],\n",
    "                        y=X[y == cl, 1],\n",
    "                        alpha=0.6,\n",
    "                        c=cmap(idx),\n",
    "                        edgecolor='black',\n",
    "                        marker=markers[idx],\n",
    "                        label=cl)\n",
    "        \n",
    "        \n",
    "    # Test points shown in diff colour\n",
    "    \n",
    "    if test_idx:\n",
    "        # print(\"X size {} \".format(X.shape))\n",
    "        X_test, y_test = X[test_idx, :], y[test_idx]\n",
    "        # print(\"X_test {} y_test {}\".format(X_test, y_test))\n",
    "        plt.scatter(X_test[:, 0], X_test[:, 1], c='', alpha=1.0, edgecolors='black', linewidths=1, marker='o', s=55, label='test set')\n"
   ]
  },
  {
   "cell_type": "code",
   "execution_count": 458,
   "metadata": {
    "collapsed": false
   },
   "outputs": [
    {
     "name": "stderr",
     "output_type": "stream",
     "text": [
      "No handles with labels found to put in legend.\n"
     ]
    },
    {
     "name": "stdout",
     "output_type": "stream",
     "text": [
      "X com <class 'tuple'> y com <class 'tuple'>\nX com (150, 2) y com (150,)\nxx1 (67575,) xx2 (255, 265) array [[-2.57496421 -2.55496421 -2.53496421 ...  2.66503579  2.68503579\n   2.70503579]\n [-2.4487218  -2.4487218  -2.4487218  ...  2.6312782   2.6312782\n   2.6312782 ]] \n size (2, 67575) after t [[-2.57496421 -2.4487218 ]\n [-2.55496421 -2.4487218 ]\n [-2.53496421 -2.4487218 ]\n ...\n [ 2.66503579  2.6312782 ]\n [ 2.68503579  2.6312782 ]\n [ 2.70503579  2.6312782 ]]\n"
     ]
    },
    {
     "data": {
      "image/png": "[encoded data removed]",
      "text/plain": [
       "<Figure size 432x288 with 1 Axes>"
      ]
     },
     "metadata": {},
     "output_type": "display_data"
    }
   ],
   "source": [
    "X_combined_std = np.vstack((X_train_std, X_test_std))\n",
    "y_combined = np.hstack((y_train, y_test))\n",
    "print(\"X com {} y com {}\".format(type(X_combined_std.shape), type(y_combined.shape)))\n",
    "print(\"X com {} y com {}\".format(X_combined_std.shape, y_combined.shape))\n",
    "\n",
    "plot_decision_regions(X_combined_std, y_combined, ppn, test_idx=range(105, 150))\n",
    "\n",
    "plt.xlabel('petal len std scaler')\n",
    "plt.ylabel('petal width std scaler')\n",
    "plt.legend(loc='upper left')\n",
    "\n",
    "\n",
    "plt.tight_layout() #Automatically adjust subplot parameters to give specified padding.\n",
    "\n",
    "plt.show()"
   ]
  },
  {
   "cell_type": "code",
   "execution_count": 459,
   "metadata": {},
   "outputs": [
    {
     "data": {
      "text/plain": [
       "(2, 4)"
      ]
     },
     "execution_count": 459,
     "metadata": {},
     "output_type": "execute_result"
    }
   ],
   "source": [
    "#-> np\n",
    "\n",
    "a = np.arange(1,5)\n",
    "b = np.arange(6,10)\n",
    "a, b\n",
    "\n",
    "c = np.array([a, b])\n",
    "c\n",
    "\n",
    "c.shape\n"
   ]
  }
 ],
 "metadata": {
  "kernelspec": {
   "display_name": "Python 2",
   "language": "python",
   "name": "python2"
  },
  "language_info": {
   "codemirror_mode": {
    "name": "ipython",
    "version": 2
   },
   "file_extension": ".py",
   "mimetype": "text/x-python",
   "name": "python",
   "nbconvert_exporter": "python",
   "pygments_lexer": "ipython2",
   "version": "2.7.6"
  }
 },
 "nbformat": 4,
 "nbformat_minor": 0
}
